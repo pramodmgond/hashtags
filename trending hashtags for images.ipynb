{
 "cells": [
  {
   "cell_type": "code",
   "execution_count": null,
   "id": "3d3b0215",
   "metadata": {},
   "outputs": [],
   "source": []
  },
  {
   "cell_type": "code",
   "execution_count": null,
   "id": "f12c8049",
   "metadata": {},
   "outputs": [],
   "source": []
  },
  {
   "cell_type": "code",
   "execution_count": 21,
   "id": "02d61d12",
   "metadata": {},
   "outputs": [],
   "source": [
    "import numpy as np\n",
    "import pandas as pd\n",
    "from tensorflow.keras.applications.resnet50 import ResNet50, preprocess_input\n",
    "from tensorflow.keras.preprocessing import image\n",
    "\n",
    "# Load the pre-trained ResNet50 model\n",
    "model = ResNet50(weights='imagenet')\n",
    "\n",
    "# Define a function to predict the top K imagenet labels for an input image\n",
    "def predict_labels(image_path, K=10):\n",
    "    # Load and preprocess the image\n",
    "    img = image.load_img(image_path, target_size=(224, 224))\n",
    "    x = image.img_to_array(img)\n",
    "    x = np.expand_dims(x, axis=0)\n",
    "    x = preprocess_input(x)\n",
    "\n",
    "    # Use the ResNet50 model to predict the image's class probabilities\n",
    "    preds = model.predict(x)\n",
    "    print(preds.shape)\n",
    "    # Decode the predictions into a list of imagenet labels and their probabilities\n",
    "    imagenet_labels = pd.read_csv(\"https://storage.googleapis.com/download.tensorflow.org/data/ImageNetLabels.txt\", header=None)[0]\n",
    "    top_preds = np.argsort(-preds, axis=1)[0][:K]\n",
    "    labels = [imagenet_labels[idx] for idx in top_preds]\n",
    "    probs = [preds[0][idx] for idx in top_preds]\n",
    "    return labels, probs\n",
    "\n",
    "# Define a function to generate hashtags for an input image\n",
    "def generate_hashtags(image_path, K=10):\n",
    "    # Use the predict_labels function to get the top imagenet labels for the image\n",
    "    labels, _ = predict_labels(image_path, K)\n",
    "\n",
    "    # Convert the imagenet labels to hashtags and return the top K hashtags\n",
    "    hashtags = [f\"#{label.replace(' ', '')}\" for label in labels]\n",
    "    return hashtags[:K]\n",
    "\n",
    "# Example usage\n"
   ]
  },
  {
   "cell_type": "code",
   "execution_count": 24,
   "id": "2187b53b",
   "metadata": {},
   "outputs": [
    {
     "name": "stdout",
     "output_type": "stream",
     "text": [
      "1/1 [==============================] - 0s 116ms/step\n",
      "(1, 1000)\n",
      "['#brass', '#whistle', '#bicycle-built-for-two', '#mailbox', '#hook', '#dialtelephone', '#yurt', '#gong', '#espressomaker', '#bassoon']\n"
     ]
    }
   ],
   "source": [
    "hashtags = generate_hashtags(\"C:/Users/pramod/Desktop/ANN/TASK/image2.png\", K=10)\n",
    "print(hashtags)\n"
   ]
  },
  {
   "cell_type": "code",
   "execution_count": null,
   "id": "51b0ceec",
   "metadata": {},
   "outputs": [],
   "source": [
    "#influencermarketinghub"
   ]
  },
  {
   "cell_type": "code",
   "execution_count": null,
   "id": "a722d80b",
   "metadata": {},
   "outputs": [],
   "source": []
  },
  {
   "cell_type": "code",
   "execution_count": null,
   "id": "2ed9a941",
   "metadata": {},
   "outputs": [],
   "source": []
  }
 ],
 "metadata": {
  "kernelspec": {
   "display_name": "Python 3 (ipykernel)",
   "language": "python",
   "name": "python3"
  },
  "language_info": {
   "codemirror_mode": {
    "name": "ipython",
    "version": 3
   },
   "file_extension": ".py",
   "mimetype": "text/x-python",
   "name": "python",
   "nbconvert_exporter": "python",
   "pygments_lexer": "ipython3",
   "version": "3.10.9"
  }
 },
 "nbformat": 4,
 "nbformat_minor": 5
}
